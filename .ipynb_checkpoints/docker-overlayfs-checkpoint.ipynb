{
 "cells": [
  {
   "cell_type": "markdown",
   "id": "5c0b475f",
   "metadata": {},
   "source": [
    "# Docker Union Filesystem Simulation with Overlayfs in Linux"
   ]
  },
  {
   "cell_type": "markdown",
   "id": "a9068a28",
   "metadata": {
    "heading_collapsed": true
   },
   "source": [
    "## Inspect Docker filesystem"
   ]
  },
  {
   "cell_type": "markdown",
   "id": "504cb5e8",
   "metadata": {
    "hidden": true
   },
   "source": [
    "Inspect a docker container image file graph with a following command"
   ]
  },
  {
   "cell_type": "code",
   "execution_count": 36,
   "id": "210cd6ea",
   "metadata": {
    "hidden": true
   },
   "outputs": [
    {
     "name": "stdout",
     "output_type": "stream",
     "text": [
      "\u001b[1;39m{\n",
      "  \u001b[0m\u001b[34;1m\"Data\"\u001b[0m\u001b[1;39m: \u001b[0m\u001b[1;39m{\n",
      "    \u001b[0m\u001b[34;1m\"LowerDir\"\u001b[0m\u001b[1;39m: \u001b[0m\u001b[0;32m\"/var/lib/docker/overlay2/c1b3e76503a158e0b5bbfceee8e39b9e0baed0d350ffbdf4d1ac7a56f87ab896-init/diff:/var/lib/docker/overlay2/cefc1ec6c053dd7219a84a20e7e0ed17e3c8c6c571c928779f141813b0be916d/diff:/var/lib/docker/overlay2/bd0c77175bb069c25d0be4067d38e73a68e0b4931972f5cd3bf3ec8ec09ed489/diff\"\u001b[0m\u001b[1;39m,\n",
      "    \u001b[0m\u001b[34;1m\"MergedDir\"\u001b[0m\u001b[1;39m: \u001b[0m\u001b[0;32m\"/var/lib/docker/overlay2/c1b3e76503a158e0b5bbfceee8e39b9e0baed0d350ffbdf4d1ac7a56f87ab896/merged\"\u001b[0m\u001b[1;39m,\n",
      "    \u001b[0m\u001b[34;1m\"UpperDir\"\u001b[0m\u001b[1;39m: \u001b[0m\u001b[0;32m\"/var/lib/docker/overlay2/c1b3e76503a158e0b5bbfceee8e39b9e0baed0d350ffbdf4d1ac7a56f87ab896/diff\"\u001b[0m\u001b[1;39m,\n",
      "    \u001b[0m\u001b[34;1m\"WorkDir\"\u001b[0m\u001b[1;39m: \u001b[0m\u001b[0;32m\"/var/lib/docker/overlay2/c1b3e76503a158e0b5bbfceee8e39b9e0baed0d350ffbdf4d1ac7a56f87ab896/work\"\u001b[0m\u001b[1;39m\n",
      "  \u001b[1;39m}\u001b[0m\u001b[1;39m,\n",
      "  \u001b[0m\u001b[34;1m\"Name\"\u001b[0m\u001b[1;39m: \u001b[0m\u001b[0;32m\"overlay2\"\u001b[0m\u001b[1;39m\n",
      "\u001b[1;39m}\u001b[0m\n",
      "\u001b[?2004h"
     ]
    },
    {
     "ename": "",
     "evalue": "1",
     "output_type": "error",
     "traceback": []
    }
   ],
   "source": [
    "docker inspect portainer | jq '.[0].GraphDriver'"
   ]
  },
  {
   "cell_type": "markdown",
   "id": "f1d76873",
   "metadata": {
    "hidden": true
   },
   "source": [
    "The lower layer has a set of directories"
   ]
  },
  {
   "cell_type": "markdown",
   "id": "078a9d37",
   "metadata": {
    "heading_collapsed": true
   },
   "source": [
    "## how overlays work"
   ]
  },
  {
   "cell_type": "markdown",
   "id": "78d47e74",
   "metadata": {
    "hidden": true
   },
   "source": [
    "Overlay filesystems, also known as “union filesystems” or “union mounts” let you mount a filesystem using 2 directories: a “lower” directory, and an “upper” directory.\n",
    "\n",
    "Basically:\n",
    "\n",
    "the lower directory of the filesystem is read-only\n",
    "the upper directory of the filesystem can be both read to and written from\n",
    "When a process reads a file, the overlayfs filesystem driver looks in the upper directory and reads the file from there if it’s present. Otherwise, it looks in the lower directory.\n",
    "\n",
    "When a process writes a file, overlayfs will just write it to the upper directory."
   ]
  },
  {
   "cell_type": "code",
   "execution_count": 4,
   "id": "81f06d6b",
   "metadata": {
    "hidden": true
   },
   "outputs": [
    {
     "name": "stdout",
     "output_type": "stream",
     "text": [
      "\u001b[?2004l\r",
      "\u001b[?2004h"
     ]
    },
    {
     "ename": "",
     "evalue": "1",
     "output_type": "error",
     "traceback": []
    }
   ],
   "source": [
    "mkdir -p docker/overlayfs-test && cd docker/overlayfs-test"
   ]
  },
  {
   "cell_type": "code",
   "execution_count": 7,
   "id": "bd6192e1",
   "metadata": {
    "hidden": true
   },
   "outputs": [
    {
     "name": "stdout",
     "output_type": "stream",
     "text": [
      "\u001b[?2004l\r",
      "\u001b[?2004h"
     ]
    },
    {
     "ename": "",
     "evalue": "1",
     "output_type": "error",
     "traceback": []
    }
   ],
   "source": [
    "mkdir upper lower merged work"
   ]
  },
  {
   "cell_type": "code",
   "execution_count": 10,
   "id": "ac7a8664",
   "metadata": {
    "hidden": true
   },
   "outputs": [
    {
     "name": "stdout",
     "output_type": "stream",
     "text": [
      "/home/elangovan/workspace/devops/docker/overlayfs-test\n",
      "total 24\n",
      "drwxr-xr-x 6 elangovan elangovan 4096 Nov 18 12:49 \u001b[0m\u001b[01;34m.\u001b[0m\n",
      "drwxr-xr-x 3 elangovan elangovan 4096 Nov 18 12:47 \u001b[01;34m..\u001b[0m\n",
      "drwxr-xr-x 2 elangovan elangovan 4096 Nov 18 12:51 \u001b[01;34mlower\u001b[0m\n",
      "drwxr-xr-x 2 elangovan elangovan 4096 Nov 18 12:49 \u001b[01;34mmerged\u001b[0m\n",
      "drwxr-xr-x 2 elangovan elangovan 4096 Nov 18 12:51 \u001b[01;34mupper\u001b[0m\n",
      "drwxr-xr-x 2 elangovan elangovan 4096 Nov 18 12:49 \u001b[01;34mwork\u001b[0m\n",
      "\u001b[?2004h"
     ]
    },
    {
     "ename": "",
     "evalue": "1",
     "output_type": "error",
     "traceback": []
    }
   ],
   "source": [
    "pwd && ls"
   ]
  },
  {
   "cell_type": "code",
   "execution_count": 9,
   "id": "4ac1661f",
   "metadata": {
    "hidden": true
   },
   "outputs": [
    {
     "name": "stdout",
     "output_type": "stream",
     "text": [
      "\u001b[?2004h\u001b[?2004l\u001b[?2004l\u001b[?2004l"
     ]
    },
    {
     "ename": "",
     "evalue": "1",
     "output_type": "error",
     "traceback": []
    }
   ],
   "source": [
    "echo \"I'm from lower!\" > lower/in_lower.txt\n",
    "echo \"I'm from upper!\" > upper/in_upper.txt\n",
    "echo \"I'm from lower!\" > lower/in_both.txt\n",
    "echo \"I'm from upper!\" > upper/in_both.txt"
   ]
  },
  {
   "cell_type": "code",
   "execution_count": 14,
   "id": "da148cd5",
   "metadata": {
    "hidden": true
   },
   "outputs": [
    {
     "name": "stdout",
     "output_type": "stream",
     "text": [
      "[sudo] password for elangovan: \u001b[?2004h"
     ]
    },
    {
     "ename": "",
     "evalue": "1",
     "output_type": "error",
     "traceback": []
    }
   ],
   "source": [
    "sudo -S mount -t overlay overlay -o lowerdir=/home/elangovan/workspace/devops/docker/overlayfs-test/lower,\\\n",
    "upperdir=/home/elangovan/workspace/devops/docker/overlayfs-test/upper,\\\n",
    "workdir=/home/elangovan/workspace/devops/docker/overlayfs-test/work \\\n",
    "/home/elangovan/workspace/devops/docker/overlayfs-test/merged < ~/p1"
   ]
  },
  {
   "cell_type": "markdown",
   "id": "d1f47cbb",
   "metadata": {},
   "source": [
    "## Testing after overlayfs mount"
   ]
  },
  {
   "attachments": {
    "overlay-fs.png": {
     "image/png": "[encoded data removed]"
    }
   },
   "cell_type": "markdown",
   "id": "491617d3",
   "metadata": {},
   "source": [
    "\"in_both.txt\" files are in both lower and upper layer. \"both.txt\" file from upper layer is visible at the merged layer\n",
    "\n",
    "![overlay-fs.png](attachment:overlay-fs.png)\n"
   ]
  },
  {
   "cell_type": "code",
   "execution_count": 19,
   "id": "0d5ce34c",
   "metadata": {},
   "outputs": [
    {
     "name": "stdout",
     "output_type": "stream",
     "text": [
      "lower:4l\n",
      "total 16\n",
      "drwxr-xr-x 2 elangovan elangovan 4096 Nov 18 12:51 \u001b[0m\u001b[01;34m.\u001b[0m\n",
      "drwxr-xr-x 6 elangovan elangovan 4096 Nov 18 12:49 \u001b[01;34m..\u001b[0m\n",
      "-rw-r--r-- 1 elangovan elangovan   16 Nov 18 12:51 \u001b[00;32min_both.txt\u001b[0m\n",
      "-rw-r--r-- 1 elangovan elangovan   16 Nov 18 12:51 \u001b[00;32min_lower.txt\u001b[0m\n",
      "\n",
      "merged:\n",
      "total 20\n",
      "drwxr-xr-x 1 elangovan elangovan 4096 Nov 18 12:51 \u001b[01;34m.\u001b[0m\n",
      "drwxr-xr-x 6 elangovan elangovan 4096 Nov 18 12:49 \u001b[01;34m..\u001b[0m\n",
      "-rw-r--r-- 1 elangovan elangovan   16 Nov 18 12:51 \u001b[00;32min_both.txt\u001b[0m\n",
      "-rw-r--r-- 1 elangovan elangovan   16 Nov 18 12:51 \u001b[00;32min_lower.txt\u001b[0m\n",
      "-rw-r--r-- 1 elangovan elangovan   16 Nov 18 12:51 \u001b[00;32min_upper.txt\u001b[0m\n",
      "\n",
      "upper:\n",
      "total 16\n",
      "drwxr-xr-x 2 elangovan elangovan 4096 Nov 18 12:51 \u001b[01;34m.\u001b[0m\n",
      "drwxr-xr-x 6 elangovan elangovan 4096 Nov 18 12:49 \u001b[01;34m..\u001b[0m\n",
      "-rw-r--r-- 1 elangovan elangovan   16 Nov 18 12:51 \u001b[00;32min_both.txt\u001b[0m\n",
      "-rw-r--r-- 1 elangovan elangovan   16 Nov 18 12:51 \u001b[00;32min_upper.txt\u001b[0m\n",
      "\u001b[?2004h"
     ]
    },
    {
     "ename": "",
     "evalue": "1",
     "output_type": "error",
     "traceback": []
    }
   ],
   "source": [
    "ls lower upper merged"
   ]
  },
  {
   "cell_type": "code",
   "execution_count": 15,
   "id": "63ab56cf",
   "metadata": {},
   "outputs": [
    {
     "name": "stdout",
     "output_type": "stream",
     "text": [
      "I'm from upper!\n",
      "\u001b[?2004h"
     ]
    },
    {
     "ename": "",
     "evalue": "1",
     "output_type": "error",
     "traceback": []
    }
   ],
   "source": [
    "cat merged/in_both.txt "
   ]
  },
  {
   "cell_type": "code",
   "execution_count": 16,
   "id": "cf272609",
   "metadata": {},
   "outputs": [
    {
     "name": "stdout",
     "output_type": "stream",
     "text": [
      "lower/4l\n",
      "lower/in_lower.txt\n",
      "lower/in_both.txt\n",
      "upper/\n",
      "upper/in_upper.txt\n",
      "upper/in_both.txt\n",
      "merged/\n",
      "merged/in_lower.txt\n",
      "merged/in_both.txt\n",
      "merged/in_upper.txt\n",
      "\u001b[?2004h"
     ]
    },
    {
     "ename": "",
     "evalue": "1",
     "output_type": "error",
     "traceback": []
    }
   ],
   "source": [
    "find lower/ upper/ merged/"
   ]
  },
  {
   "cell_type": "markdown",
   "id": "9e204cbc",
   "metadata": {
    "heading_collapsed": true
   },
   "source": [
    "## What happens after creating a new file?"
   ]
  },
  {
   "cell_type": "markdown",
   "id": "0acdd579",
   "metadata": {
    "hidden": true
   },
   "source": [
    "Create a new file in merged layer"
   ]
  },
  {
   "cell_type": "code",
   "execution_count": 21,
   "id": "17270910",
   "metadata": {
    "hidden": true
   },
   "outputs": [
    {
     "name": "stdout",
     "output_type": "stream",
     "text": [
      "\u001b[?2004l\r",
      "\u001b[?2004h"
     ]
    },
    {
     "ename": "",
     "evalue": "1",
     "output_type": "error",
     "traceback": []
    }
   ],
   "source": [
    "echo 'new file' > merged/new_file"
   ]
  },
  {
   "cell_type": "code",
   "execution_count": 22,
   "id": "3987b485",
   "metadata": {
    "hidden": true
   },
   "outputs": [
    {
     "name": "stdout",
     "output_type": "stream",
     "text": [
      "-rw-r--r-- 1 elangovan elangovan 9 Nov 18 15:05 merged/new_file\n",
      "-rw-r--r-- 1 elangovan elangovan 9 Nov 18 15:05 upper/new_file\n",
      "\u001b[?2004h"
     ]
    },
    {
     "ename": "",
     "evalue": "1",
     "output_type": "error",
     "traceback": []
    }
   ],
   "source": [
    "ls -l */new_file "
   ]
  },
  {
   "cell_type": "markdown",
   "id": "cdacb783",
   "metadata": {
    "hidden": true
   },
   "source": [
    "The new file gets created in the upper directory."
   ]
  },
  {
   "cell_type": "markdown",
   "id": "5bfaf8a6",
   "metadata": {
    "heading_collapsed": true
   },
   "source": [
    "## what happens when you delete a file?"
   ]
  },
  {
   "cell_type": "code",
   "execution_count": 23,
   "id": "2f31d2bb",
   "metadata": {
    "hidden": true
   },
   "outputs": [
    {
     "name": "stdout",
     "output_type": "stream",
     "text": [
      "\u001b[?2004l\r",
      "\u001b[?2004h"
     ]
    },
    {
     "ename": "",
     "evalue": "1",
     "output_type": "error",
     "traceback": []
    }
   ],
   "source": [
    "rm merged/in_both.txt"
   ]
  },
  {
   "cell_type": "code",
   "execution_count": 28,
   "id": "141038ba",
   "metadata": {
    "hidden": true
   },
   "outputs": [
    {
     "name": "stdout",
     "output_type": "stream",
     "text": [
      "lower:4l\n",
      "total 16\n",
      "drwxr-xr-x 2 elangovan elangovan 4096 Nov 18 12:51 \u001b[0m\u001b[01;34m.\u001b[0m\n",
      "drwxr-xr-x 6 elangovan elangovan 4096 Nov 18 12:49 \u001b[01;34m..\u001b[0m\n",
      "-rw-r--r-- 1 elangovan elangovan   16 Nov 18 12:51 \u001b[00;32min_both.txt\u001b[0m\n",
      "-rw-r--r-- 1 elangovan elangovan   16 Nov 18 12:51 \u001b[00;32min_lower.txt\u001b[0m\n",
      "\n",
      "merged:\n",
      "total 20\n",
      "drwxr-xr-x 1 elangovan elangovan 4096 Nov 18 15:10 \u001b[01;34m.\u001b[0m\n",
      "drwxr-xr-x 6 elangovan elangovan 4096 Nov 18 12:49 \u001b[01;34m..\u001b[0m\n",
      "-rw-r--r-- 1 elangovan elangovan   16 Nov 18 12:51 \u001b[00;32min_lower.txt\u001b[0m\n",
      "-rw-r--r-- 1 elangovan elangovan   16 Nov 18 12:51 \u001b[00;32min_upper.txt\u001b[0m\n",
      "-rw-r--r-- 1 elangovan elangovan    9 Nov 18 15:05 new_file\n",
      "\n",
      "upper:\n",
      "total 16\n",
      "drwxr-xr-x 2 elangovan elangovan 4096 Nov 18 15:10 \u001b[01;34m.\u001b[0m\n",
      "drwxr-xr-x 6 elangovan elangovan 4096 Nov 18 12:49 \u001b[01;34m..\u001b[0m\n",
      "c--------- 2 root      root      0, 0 Nov 18 15:10 \u001b[40;33;01min_both.txt\u001b[0m\n",
      "-rw-r--r-- 1 elangovan elangovan   16 Nov 18 12:51 \u001b[00;32min_upper.txt\u001b[0m\n",
      "-rw-r--r-- 1 elangovan elangovan    9 Nov 18 15:05 new_file\n",
      "\n",
      "work:\n",
      "total 16\n",
      "drwxr-xr-x 4 elangovan elangovan 4096 Nov 18 13:12 \u001b[01;34m.\u001b[0m\n",
      "drwxr-xr-x 6 elangovan elangovan 4096 Nov 18 12:49 \u001b[01;34m..\u001b[0m\n",
      "d--------- 2 root      root      4096 Nov 18 15:10 \u001b[01;34mindex\u001b[0m\n",
      "d--------- 2 root      root      4096 Nov 18 13:12 \u001b[01;34mwork\u001b[0m\n",
      "\u001b[?2004h"
     ]
    },
    {
     "ename": "",
     "evalue": "1",
     "output_type": "error",
     "traceback": []
    }
   ],
   "source": [
    "ls -l upper lower merged work"
   ]
  },
  {
   "cell_type": "markdown",
   "id": "f36552d9",
   "metadata": {
    "hidden": true
   },
   "source": [
    "After removing in_both.txt at merged layer, it disappear from merged directory but in upper layer, it shows as a character device"
   ]
  },
  {
   "cell_type": "code",
   "execution_count": 35,
   "id": "1c71371f",
   "metadata": {
    "hidden": true
   },
   "outputs": [
    {
     "name": "stdout",
     "output_type": "stream",
     "text": [
      "work/index:\n",
      "total 8\n",
      "d--------- 2 root      root      4096 Nov 18 15:10  .\n",
      "drwxr-xr-x 4 elangovan elangovan 4096 Nov 18 13:12  ..\n",
      "c--------- 2 root      root      0, 0 Nov 18 15:10 '#c2'\n",
      "\n",
      "work/work:\n",
      "total 8\n",
      "d--------- 2 root      root      4096 Nov 18 13:12 .\n",
      "drwxr-xr-x 4 elangovan elangovan 4096 Nov 18 13:12 ..\n",
      "\u001b[?2004h"
     ]
    },
    {
     "ename": "",
     "evalue": "1",
     "output_type": "error",
     "traceback": []
    }
   ],
   "source": [
    "sudo -S ls -al work/index work/work < ~/p1"
   ]
  },
  {
   "cell_type": "code",
   "execution_count": null,
   "id": "85f6ab70",
   "metadata": {
    "hidden": true
   },
   "outputs": [],
   "source": []
  }
 ],
 "metadata": {
  "kernelspec": {
   "display_name": "Bash",
   "language": "bash",
   "name": "bash"
  },
  "language_info": {
   "codemirror_mode": "shell",
   "file_extension": ".sh",
   "mimetype": "text/x-sh",
   "name": "bash"
  }
 },
 "nbformat": 4,
 "nbformat_minor": 5
}
